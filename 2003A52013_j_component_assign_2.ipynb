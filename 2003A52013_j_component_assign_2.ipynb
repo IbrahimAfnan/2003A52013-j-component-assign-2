{
  "nbformat": 4,
  "nbformat_minor": 0,
  "metadata": {
    "colab": {
      "name": "2003A52013 j-component assign-2",
      "provenance": [],
      "collapsed_sections": []
    },
    "kernelspec": {
      "display_name": "Python 3",
      "name": "python3"
    }
  },
  "cells": [
    {
      "cell_type": "code",
      "metadata": {
        "id": "LxTdyahVQ13w",
        "colab": {
          "base_uri": "https://localhost:8080/"
        },
        "outputId": "3d8612f7-6bb8-4483-c111-d8227f2b5f00"
      },
      "source": [
        "import numpy as np\n",
        "  \n",
        "x1=[3.2,3.2,3.7,3.9,4,4,4.1,4.5,4.9,5.1,5.3,5.9,6]\n",
        "y=[54445,64445,57189,63218,55794,56957,57081,61111,67938,66029,83088,81363,93940]\n",
        "yp=[]\n",
        "e=[]\n",
        "\n",
        "m=[1235,1500,1850,2000]\n",
        "c=[1900,1950,2000,2100]\n",
        "\n",
        "def linear(m,c):\n",
        "  sum=0\n",
        "  g=[]\n",
        "  yp=[]  \n",
        "  for i in range(0,len(x1)):\n",
        "    yp.append(m*x1[i]+c)\n",
        "    g=(y[i]-yp[i])**2\n",
        "    k=np.array(g)\n",
        "  print('meam square error is :',np.mean(k))\n",
        "for i in range(0,4):\n",
        "   linear(m[i],c[i])"
      ],
      "execution_count": null,
      "outputs": [
        {
          "output_type": "stream",
          "name": "stdout",
          "text": [
            "meam square error is : 7162236900.0\n",
            "meam square error is : 6887340100.0\n",
            "meam square error is : 6535105600.0\n",
            "meam square error is : 6374425600.0\n"
          ]
        }
      ]
    },
    {
      "cell_type": "code",
      "metadata": {
        "id": "Jy_91jRhQ_2M",
        "colab": {
          "base_uri": "https://localhost:8080/",
          "height": 282
        },
        "outputId": "8b931244-1f1c-47bd-fa43-d0a5800648cd"
      },
      "source": [
        "from  matplotlib import pyplot as plt\n",
        "plt.plot(x1,y,'r')"
      ],
      "execution_count": null,
      "outputs": [
        {
          "output_type": "execute_result",
          "data": {
            "text/plain": [
              "[<matplotlib.lines.Line2D at 0x7f26ed592a90>]"
            ]
          },
          "metadata": {},
          "execution_count": 2
        },
        {
          "output_type": "display_data",
          "data": {
            "image/png": "[encoded data removed]",
            "text/plain": [
              "<Figure size 432x288 with 1 Axes>"
            ]
          },
          "metadata": {
            "needs_background": "light"
          }
        }
      ]
    },
    {
      "cell_type": "code",
      "metadata": {
        "id": "Zmkm14JORDJW"
      },
      "source": [
        "Name:Mohammed Ibrahim Afnan Ahmed\n",
        "HT No.:2003A52013"
      ],
      "execution_count": null,
      "outputs": []
    }
  ]
}